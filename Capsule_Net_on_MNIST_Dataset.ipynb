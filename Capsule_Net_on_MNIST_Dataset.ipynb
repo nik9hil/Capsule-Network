{
  "nbformat": 4,
  "nbformat_minor": 0,
  "metadata": {
    "colab": {
      "name": "Capsule Net on MNIST Dataset.ipynb",
      "provenance": [],
      "collapsed_sections": []
    },
    "kernelspec": {
      "name": "python3",
      "display_name": "Python 3"
    },
    "accelerator": "GPU"
  },
  "cells": [
    {
      "cell_type": "markdown",
      "metadata": {
        "id": "1VUgwTq4KEEJ",
        "colab_type": "text"
      },
      "source": [
        "# Capsule Net on MNIST Dataset\n"
      ]
    },
    {
      "cell_type": "markdown",
      "metadata": {
        "id": "WMWoiyGhKG7J",
        "colab_type": "text"
      },
      "source": [
        "##Importing the dependencies"
      ]
    },
    {
      "cell_type": "code",
      "metadata": {
        "id": "g1Q0SIz-JARI",
        "colab_type": "code",
        "colab": {
          "base_uri": "https://localhost:8080/",
          "height": 887
        },
        "outputId": "5729ef1a-fdc4-4878-b717-010a6247b9ec"
      },
      "source": [
        "!pip install keras==2.1.2\n",
        "!pip install tensorflow==1.13.1"
      ],
      "execution_count": 1,
      "outputs": [
        {
          "output_type": "stream",
          "text": [
            "Collecting keras==2.1.2\n",
            "\u001b[?25l  Downloading https://files.pythonhosted.org/packages/68/89/58ee5f56a9c26957d97217db41780ebedca3154392cb903c3f8a08a52208/Keras-2.1.2-py2.py3-none-any.whl (304kB)\n",
            "\r\u001b[K     |█                               | 10kB 16.8MB/s eta 0:00:01\r\u001b[K     |██▏                             | 20kB 4.6MB/s eta 0:00:01\r\u001b[K     |███▎                            | 30kB 5.9MB/s eta 0:00:01\r\u001b[K     |████▎                           | 40kB 6.0MB/s eta 0:00:01\r\u001b[K     |█████▍                          | 51kB 5.0MB/s eta 0:00:01\r\u001b[K     |██████▌                         | 61kB 5.6MB/s eta 0:00:01\r\u001b[K     |███████▌                        | 71kB 6.0MB/s eta 0:00:01\r\u001b[K     |████████▋                       | 81kB 6.5MB/s eta 0:00:01\r\u001b[K     |█████████▊                      | 92kB 6.8MB/s eta 0:00:01\r\u001b[K     |██████████▊                     | 102kB 6.8MB/s eta 0:00:01\r\u001b[K     |███████████▉                    | 112kB 6.8MB/s eta 0:00:01\r\u001b[K     |█████████████                   | 122kB 6.8MB/s eta 0:00:01\r\u001b[K     |██████████████                  | 133kB 6.8MB/s eta 0:00:01\r\u001b[K     |███████████████                 | 143kB 6.8MB/s eta 0:00:01\r\u001b[K     |████████████████▏               | 153kB 6.8MB/s eta 0:00:01\r\u001b[K     |█████████████████▎              | 163kB 6.8MB/s eta 0:00:01\r\u001b[K     |██████████████████▎             | 174kB 6.8MB/s eta 0:00:01\r\u001b[K     |███████████████████▍            | 184kB 6.8MB/s eta 0:00:01\r\u001b[K     |████████████████████▌           | 194kB 6.8MB/s eta 0:00:01\r\u001b[K     |█████████████████████▌          | 204kB 6.8MB/s eta 0:00:01\r\u001b[K     |██████████████████████▋         | 215kB 6.8MB/s eta 0:00:01\r\u001b[K     |███████████████████████▊        | 225kB 6.8MB/s eta 0:00:01\r\u001b[K     |████████████████████████▊       | 235kB 6.8MB/s eta 0:00:01\r\u001b[K     |█████████████████████████▉      | 245kB 6.8MB/s eta 0:00:01\r\u001b[K     |███████████████████████████     | 256kB 6.8MB/s eta 0:00:01\r\u001b[K     |████████████████████████████    | 266kB 6.8MB/s eta 0:00:01\r\u001b[K     |█████████████████████████████   | 276kB 6.8MB/s eta 0:00:01\r\u001b[K     |██████████████████████████████▏ | 286kB 6.8MB/s eta 0:00:01\r\u001b[K     |███████████████████████████████▎| 296kB 6.8MB/s eta 0:00:01\r\u001b[K     |████████████████████████████████| 307kB 6.8MB/s \n",
            "\u001b[?25hRequirement already satisfied: pyyaml in /usr/local/lib/python3.6/dist-packages (from keras==2.1.2) (3.13)\n",
            "Requirement already satisfied: numpy>=1.9.1 in /usr/local/lib/python3.6/dist-packages (from keras==2.1.2) (1.18.2)\n",
            "Requirement already satisfied: scipy>=0.14 in /usr/local/lib/python3.6/dist-packages (from keras==2.1.2) (1.4.1)\n",
            "Requirement already satisfied: six>=1.9.0 in /usr/local/lib/python3.6/dist-packages (from keras==2.1.2) (1.12.0)\n",
            "\u001b[31mERROR: textgenrnn 1.4.1 has requirement keras>=2.1.5, but you'll have keras 2.1.2 which is incompatible.\u001b[0m\n",
            "Installing collected packages: keras\n",
            "  Found existing installation: Keras 2.3.1\n",
            "    Uninstalling Keras-2.3.1:\n",
            "      Successfully uninstalled Keras-2.3.1\n",
            "Successfully installed keras-2.1.2\n",
            "Collecting tensorflow==1.13.1\n",
            "\u001b[?25l  Downloading https://files.pythonhosted.org/packages/77/63/a9fa76de8dffe7455304c4ed635be4aa9c0bacef6e0633d87d5f54530c5c/tensorflow-1.13.1-cp36-cp36m-manylinux1_x86_64.whl (92.5MB)\n",
            "\u001b[K     |████████████████████████████████| 92.5MB 47kB/s \n",
            "\u001b[?25hRequirement already satisfied: gast>=0.2.0 in /usr/local/lib/python3.6/dist-packages (from tensorflow==1.13.1) (0.3.3)\n",
            "Requirement already satisfied: six>=1.10.0 in /usr/local/lib/python3.6/dist-packages (from tensorflow==1.13.1) (1.12.0)\n",
            "Requirement already satisfied: termcolor>=1.1.0 in /usr/local/lib/python3.6/dist-packages (from tensorflow==1.13.1) (1.1.0)\n",
            "Requirement already satisfied: absl-py>=0.1.6 in /usr/local/lib/python3.6/dist-packages (from tensorflow==1.13.1) (0.9.0)\n",
            "Requirement already satisfied: keras-applications>=1.0.6 in /usr/local/lib/python3.6/dist-packages (from tensorflow==1.13.1) (1.0.8)\n",
            "Requirement already satisfied: astor>=0.6.0 in /usr/local/lib/python3.6/dist-packages (from tensorflow==1.13.1) (0.8.1)\n",
            "Collecting tensorflow-estimator<1.14.0rc0,>=1.13.0\n",
            "\u001b[?25l  Downloading https://files.pythonhosted.org/packages/bb/48/13f49fc3fa0fdf916aa1419013bb8f2ad09674c275b4046d5ee669a46873/tensorflow_estimator-1.13.0-py2.py3-none-any.whl (367kB)\n",
            "\u001b[K     |████████████████████████████████| 368kB 31.7MB/s \n",
            "\u001b[?25hRequirement already satisfied: numpy>=1.13.3 in /usr/local/lib/python3.6/dist-packages (from tensorflow==1.13.1) (1.18.2)\n",
            "Requirement already satisfied: grpcio>=1.8.6 in /usr/local/lib/python3.6/dist-packages (from tensorflow==1.13.1) (1.28.1)\n",
            "Requirement already satisfied: wheel>=0.26 in /usr/local/lib/python3.6/dist-packages (from tensorflow==1.13.1) (0.34.2)\n",
            "Requirement already satisfied: keras-preprocessing>=1.0.5 in /usr/local/lib/python3.6/dist-packages (from tensorflow==1.13.1) (1.1.0)\n",
            "Collecting tensorboard<1.14.0,>=1.13.0\n",
            "\u001b[?25l  Downloading https://files.pythonhosted.org/packages/0f/39/bdd75b08a6fba41f098b6cb091b9e8c7a80e1b4d679a581a0ccd17b10373/tensorboard-1.13.1-py3-none-any.whl (3.2MB)\n",
            "\u001b[K     |████████████████████████████████| 3.2MB 34.0MB/s \n",
            "\u001b[?25hRequirement already satisfied: protobuf>=3.6.1 in /usr/local/lib/python3.6/dist-packages (from tensorflow==1.13.1) (3.10.0)\n",
            "Requirement already satisfied: h5py in /usr/local/lib/python3.6/dist-packages (from keras-applications>=1.0.6->tensorflow==1.13.1) (2.10.0)\n",
            "Collecting mock>=2.0.0\n",
            "  Downloading https://files.pythonhosted.org/packages/cd/74/d72daf8dff5b6566db857cfd088907bb0355f5dd2914c4b3ef065c790735/mock-4.0.2-py3-none-any.whl\n",
            "Requirement already satisfied: markdown>=2.6.8 in /usr/local/lib/python3.6/dist-packages (from tensorboard<1.14.0,>=1.13.0->tensorflow==1.13.1) (3.2.1)\n",
            "Requirement already satisfied: werkzeug>=0.11.15 in /usr/local/lib/python3.6/dist-packages (from tensorboard<1.14.0,>=1.13.0->tensorflow==1.13.1) (1.0.1)\n",
            "Requirement already satisfied: setuptools in /usr/local/lib/python3.6/dist-packages (from protobuf>=3.6.1->tensorflow==1.13.1) (46.1.3)\n",
            "Installing collected packages: mock, tensorflow-estimator, tensorboard, tensorflow\n",
            "  Found existing installation: tensorflow-estimator 2.2.0rc0\n",
            "    Uninstalling tensorflow-estimator-2.2.0rc0:\n",
            "      Successfully uninstalled tensorflow-estimator-2.2.0rc0\n",
            "  Found existing installation: tensorboard 2.2.0\n",
            "    Uninstalling tensorboard-2.2.0:\n",
            "      Successfully uninstalled tensorboard-2.2.0\n",
            "  Found existing installation: tensorflow 2.2.0rc2\n",
            "    Uninstalling tensorflow-2.2.0rc2:\n",
            "      Successfully uninstalled tensorflow-2.2.0rc2\n",
            "Successfully installed mock-4.0.2 tensorboard-1.13.1 tensorflow-1.13.1 tensorflow-estimator-1.13.0\n"
          ],
          "name": "stdout"
        }
      ]
    },
    {
      "cell_type": "code",
      "metadata": {
        "id": "MIW0nMT-JnU0",
        "colab_type": "code",
        "colab": {
          "base_uri": "https://localhost:8080/",
          "height": 304
        },
        "outputId": "7928b1fa-96ef-4250-ddfb-ebfcb9962d03"
      },
      "source": [
        "import keras\n",
        "from keras.models import Model\n",
        "from keras.layers import Conv2D, Dense, Input, Reshape, Lambda, Layer, Flatten\n",
        "from keras import backend as K\n",
        "import matplotlib.pyplot as plt\n",
        "import numpy as np\n",
        "from keras.datasets import mnist\n",
        "import tensorflow as tf\n",
        "from keras import initializers\n",
        "from keras.utils import to_categorical\n",
        "from keras.layers.core import Activation"
      ],
      "execution_count": 2,
      "outputs": [
        {
          "output_type": "stream",
          "text": [
            "Using TensorFlow backend.\n",
            "/usr/local/lib/python3.6/dist-packages/tensorflow/python/framework/dtypes.py:526: FutureWarning: Passing (type, 1) or '1type' as a synonym of type is deprecated; in a future version of numpy, it will be understood as (type, (1,)) / '(1,)type'.\n",
            "  _np_qint8 = np.dtype([(\"qint8\", np.int8, 1)])\n",
            "/usr/local/lib/python3.6/dist-packages/tensorflow/python/framework/dtypes.py:527: FutureWarning: Passing (type, 1) or '1type' as a synonym of type is deprecated; in a future version of numpy, it will be understood as (type, (1,)) / '(1,)type'.\n",
            "  _np_quint8 = np.dtype([(\"quint8\", np.uint8, 1)])\n",
            "/usr/local/lib/python3.6/dist-packages/tensorflow/python/framework/dtypes.py:528: FutureWarning: Passing (type, 1) or '1type' as a synonym of type is deprecated; in a future version of numpy, it will be understood as (type, (1,)) / '(1,)type'.\n",
            "  _np_qint16 = np.dtype([(\"qint16\", np.int16, 1)])\n",
            "/usr/local/lib/python3.6/dist-packages/tensorflow/python/framework/dtypes.py:529: FutureWarning: Passing (type, 1) or '1type' as a synonym of type is deprecated; in a future version of numpy, it will be understood as (type, (1,)) / '(1,)type'.\n",
            "  _np_quint16 = np.dtype([(\"quint16\", np.uint16, 1)])\n",
            "/usr/local/lib/python3.6/dist-packages/tensorflow/python/framework/dtypes.py:530: FutureWarning: Passing (type, 1) or '1type' as a synonym of type is deprecated; in a future version of numpy, it will be understood as (type, (1,)) / '(1,)type'.\n",
            "  _np_qint32 = np.dtype([(\"qint32\", np.int32, 1)])\n",
            "/usr/local/lib/python3.6/dist-packages/tensorflow/python/framework/dtypes.py:535: FutureWarning: Passing (type, 1) or '1type' as a synonym of type is deprecated; in a future version of numpy, it will be understood as (type, (1,)) / '(1,)type'.\n",
            "  np_resource = np.dtype([(\"resource\", np.ubyte, 1)])\n"
          ],
          "name": "stderr"
        },
        {
          "output_type": "display_data",
          "data": {
            "text/html": [
              "<p style=\"color: red;\">\n",
              "The default version of TensorFlow in Colab will switch to TensorFlow 2.x on the 27th of March, 2020.<br>\n",
              "We recommend you <a href=\"https://www.tensorflow.org/guide/migrate\" target=\"_blank\">upgrade</a> now\n",
              "or ensure your notebook will continue to use TensorFlow 1.x via the <code>%tensorflow_version 1.x</code> magic:\n",
              "<a href=\"https://colab.research.google.com/notebooks/tensorflow_version.ipynb\" target=\"_blank\">more info</a>.</p>\n"
            ],
            "text/plain": [
              "<IPython.core.display.HTML object>"
            ]
          },
          "metadata": {
            "tags": []
          }
        }
      ]
    },
    {
      "cell_type": "markdown",
      "metadata": {
        "id": "nXWkub_8KOmB",
        "colab_type": "text"
      },
      "source": [
        "## Loading and Reshaping the MNIST Data"
      ]
    },
    {
      "cell_type": "code",
      "metadata": {
        "id": "3EKqf0DjJznN",
        "colab_type": "code",
        "colab": {
          "base_uri": "https://localhost:8080/",
          "height": 177
        },
        "outputId": "e80efb82-6a07-4f2e-853a-057ad44fc549"
      },
      "source": [
        "# download training and test data from mnist and reshape it\n",
        "\n",
        "(x_train, y_orig_train), (x_test, y_orig_test) = mnist.load_data()\n",
        "x_train = x_train.astype('float32') / 255.\n",
        "x_train = x_train.reshape(-1,28,28,1)\n",
        "y_train = np.array(to_categorical(y_orig_train.astype('float32')))\n",
        "\n",
        "x_test = x_test.astype('float32') / 255.\n",
        "x_test = x_test.reshape(-1,28,28,1)\n",
        "y_test = np.array(to_categorical(y_orig_test.astype('float32')))\n",
        "\n",
        "x_output = x_train.reshape(-1,784)\n",
        "X_valid_output = x_test.reshape(-1,784)\n",
        "\n",
        "n_samples = 5\n",
        "\n",
        "plt.figure(figsize=(n_samples * 2, 3))\n",
        "for index in range(n_samples):\n",
        "    plt.subplot(1, n_samples, index + 1)\n",
        "    sample_image = x_test[index].reshape(28, 28)\n",
        "    plt.imshow(sample_image, cmap=\"binary\")\n",
        "    plt.title(\"Label:\" + str(y_orig_test[index]))\n",
        "    plt.axis(\"off\")\n",
        "\n",
        "plt.show()"
      ],
      "execution_count": 3,
      "outputs": [
        {
          "output_type": "stream",
          "text": [
            "Downloading data from https://s3.amazonaws.com/img-datasets/mnist.npz\n",
            "11493376/11490434 [==============================] - 1s 0us/step\n"
          ],
          "name": "stdout"
        },
        {
          "output_type": "display_data",
          "data": {
            "image/png": "[encoded data removed]",
            "text/plain": [
              "<Figure size 720x216 with 5 Axes>"
            ]
          },
          "metadata": {
            "tags": [],
            "needs_background": "light"
          }
        }
      ]
    },
    {
      "cell_type": "markdown",
      "metadata": {
        "id": "9WO48vZXKSZc",
        "colab_type": "text"
      },
      "source": [
        "## Building  Models"
      ]
    },
    {
      "cell_type": "markdown",
      "metadata": {
        "id": "UegyFcBEKTTD",
        "colab_type": "text"
      },
      "source": [
        "### CNN Model "
      ]
    },
    {
      "cell_type": "code",
      "metadata": {
        "id": "Edkssua7J4ZX",
        "colab_type": "code",
        "colab": {}
      },
      "source": [
        "from keras.models import Sequential\n",
        "from keras.layers import Dense, Conv2D, MaxPool2D, Flatten"
      ],
      "execution_count": 0,
      "outputs": []
    },
    {
      "cell_type": "markdown",
      "metadata": {
        "id": "DbZPqW2IKWjy",
        "colab_type": "text"
      },
      "source": [
        "#### CNN Training"
      ]
    },
    {
      "cell_type": "code",
      "metadata": {
        "id": "Wp1obBIVJ610",
        "colab_type": "code",
        "colab": {
          "base_uri": "https://localhost:8080/",
          "height": 190
        },
        "outputId": "3cfe0e5c-efda-481e-dc75-efda1d544195"
      },
      "source": [
        "model = Sequential()\n",
        "\n",
        "# CONVOLUTIONAL LAYER\n",
        "model.add(Conv2D(filters=32, kernel_size=(4,4),input_shape=(28, 28, 1), activation='relu',))\n",
        "# POOLING LAYER\n",
        "model.add(MaxPool2D(pool_size=(2, 2)))\n",
        "\n",
        "# FLATTEN IMAGES FROM 28 by 28 to 764 BEFORE FINAL LAYER\n",
        "model.add(Flatten())\n",
        "\n",
        "# 128 NEURONS IN DENSE HIDDEN LAYER (YOU CAN CHANGE THIS NUMBER OF NEURONS)\n",
        "model.add(Dense(128, activation='relu'))\n",
        "\n",
        "# LAST LAYER IS THE CLASSIFIER, THUS 10 POSSIBLE CLASSES\n",
        "model.add(Dense(10, activation='softmax'))\n",
        "\n",
        "\n",
        "model.compile(loss='categorical_crossentropy',\n",
        "              optimizer='rmsprop',\n",
        "              metrics=['accuracy'])"
      ],
      "execution_count": 5,
      "outputs": [
        {
          "output_type": "stream",
          "text": [
            "WARNING:tensorflow:From /usr/local/lib/python3.6/dist-packages/tensorflow/python/framework/op_def_library.py:263: colocate_with (from tensorflow.python.framework.ops) is deprecated and will be removed in a future version.\n",
            "Instructions for updating:\n",
            "Colocations handled automatically by placer.\n",
            "WARNING:tensorflow:From /usr/local/lib/python3.6/dist-packages/keras/backend/tensorflow_backend.py:1264: calling reduce_prod_v1 (from tensorflow.python.ops.math_ops) with keep_dims is deprecated and will be removed in a future version.\n",
            "Instructions for updating:\n",
            "keep_dims is deprecated, use keepdims instead\n",
            "WARNING:tensorflow:From /usr/local/lib/python3.6/dist-packages/keras/backend/tensorflow_backend.py:2885: calling reduce_sum_v1 (from tensorflow.python.ops.math_ops) with keep_dims is deprecated and will be removed in a future version.\n",
            "Instructions for updating:\n",
            "keep_dims is deprecated, use keepdims instead\n"
          ],
          "name": "stdout"
        }
      ]
    },
    {
      "cell_type": "code",
      "metadata": {
        "id": "rKJxYj-vLMsN",
        "colab_type": "code",
        "colab": {
          "base_uri": "https://localhost:8080/",
          "height": 445
        },
        "outputId": "7538c047-1123-473b-9d78-2ada09765ab8"
      },
      "source": [
        " model.fit(x_train,y_train,epochs=10)"
      ],
      "execution_count": 6,
      "outputs": [
        {
          "output_type": "stream",
          "text": [
            "WARNING:tensorflow:From /usr/local/lib/python3.6/dist-packages/tensorflow/python/ops/math_ops.py:3066: to_int32 (from tensorflow.python.ops.math_ops) is deprecated and will be removed in a future version.\n",
            "Instructions for updating:\n",
            "Use tf.cast instead.\n",
            "Epoch 1/10\n",
            "60000/60000 [==============================] - 47s 790us/step - loss: 0.1410 - acc: 0.9568\n",
            "Epoch 2/10\n",
            "60000/60000 [==============================] - 47s 779us/step - loss: 0.0499 - acc: 0.9849\n",
            "Epoch 3/10\n",
            "60000/60000 [==============================] - 47s 788us/step - loss: 0.0362 - acc: 0.9892\n",
            "Epoch 4/10\n",
            "60000/60000 [==============================] - 46s 759us/step - loss: 0.0274 - acc: 0.9919\n",
            "Epoch 5/10\n",
            "60000/60000 [==============================] - 45s 752us/step - loss: 0.0223 - acc: 0.9936\n",
            "Epoch 6/10\n",
            "60000/60000 [==============================] - 45s 755us/step - loss: 0.0186 - acc: 0.9948\n",
            "Epoch 7/10\n",
            "60000/60000 [==============================] - 46s 759us/step - loss: 0.0156 - acc: 0.9954\n",
            "Epoch 8/10\n",
            "60000/60000 [==============================] - 45s 753us/step - loss: 0.0124 - acc: 0.9966\n",
            "Epoch 9/10\n",
            "60000/60000 [==============================] - 45s 743us/step - loss: 0.0106 - acc: 0.9970\n",
            "Epoch 10/10\n",
            "60000/60000 [==============================] - 45s 745us/step - loss: 0.0088 - acc: 0.9974\n"
          ],
          "name": "stdout"
        },
        {
          "output_type": "execute_result",
          "data": {
            "text/plain": [
              "<keras.callbacks.History at 0x7fc5c50c7cf8>"
            ]
          },
          "metadata": {
            "tags": []
          },
          "execution_count": 6
        }
      ]
    },
    {
      "cell_type": "code",
      "metadata": {
        "id": "b7w3V1pVLRq_",
        "colab_type": "code",
        "colab": {
          "base_uri": "https://localhost:8080/",
          "height": 306
        },
        "outputId": "88a0d9e7-3b34-4933-fb89-321e391acd0c"
      },
      "source": [
        "model.summary()"
      ],
      "execution_count": 7,
      "outputs": [
        {
          "output_type": "stream",
          "text": [
            "_________________________________________________________________\n",
            "Layer (type)                 Output Shape              Param #   \n",
            "=================================================================\n",
            "conv2d_1 (Conv2D)            (None, 25, 25, 32)        544       \n",
            "_________________________________________________________________\n",
            "max_pooling2d_1 (MaxPooling2 (None, 12, 12, 32)        0         \n",
            "_________________________________________________________________\n",
            "flatten_1 (Flatten)          (None, 4608)              0         \n",
            "_________________________________________________________________\n",
            "dense_1 (Dense)              (None, 128)               589952    \n",
            "_________________________________________________________________\n",
            "dense_2 (Dense)              (None, 10)                1290      \n",
            "=================================================================\n",
            "Total params: 591,786\n",
            "Trainable params: 591,786\n",
            "Non-trainable params: 0\n",
            "_________________________________________________________________\n"
          ],
          "name": "stdout"
        }
      ]
    },
    {
      "cell_type": "markdown",
      "metadata": {
        "id": "VFU9F5FXKhR1",
        "colab_type": "text"
      },
      "source": [
        "#### CNN Evaluation"
      ]
    },
    {
      "cell_type": "code",
      "metadata": {
        "id": "hAlmtPthLVgw",
        "colab_type": "code",
        "colab": {
          "base_uri": "https://localhost:8080/",
          "height": 51
        },
        "outputId": "d0451210-6390-47b6-b6d6-6b25b1fb3155"
      },
      "source": [
        "model.evaluate(x_test,y_test)"
      ],
      "execution_count": 8,
      "outputs": [
        {
          "output_type": "stream",
          "text": [
            "10000/10000 [==============================] - 3s 318us/step\n"
          ],
          "name": "stdout"
        },
        {
          "output_type": "execute_result",
          "data": {
            "text/plain": [
              "[0.05971947873453582, 0.9868]"
            ]
          },
          "metadata": {
            "tags": []
          },
          "execution_count": 8
        }
      ]
    },
    {
      "cell_type": "code",
      "metadata": {
        "id": "fvUPS2qbLXki",
        "colab_type": "code",
        "colab": {}
      },
      "source": [
        "#Saving the model\n",
        "model.save('mnist_cnn.h5')"
      ],
      "execution_count": 0,
      "outputs": []
    },
    {
      "cell_type": "markdown",
      "metadata": {
        "id": "dk8_-Il1Ks6r",
        "colab_type": "text"
      },
      "source": [
        "## Capsule Network\n",
        "### Step 1: Initial Convolutional Layer"
      ]
    },
    {
      "cell_type": "code",
      "metadata": {
        "id": "QzZACfOULZw7",
        "colab_type": "code",
        "colab": {}
      },
      "source": [
        "input_shape = Input(shape=(28,28,1))  # size of input image is 28*28\n",
        " \n",
        "# a convolution layer output shape = 20*20*256\n",
        "conv1 = Conv2D(256, (9,9), activation = 'relu', padding = 'valid')(input_shape)"
      ],
      "execution_count": 0,
      "outputs": []
    },
    {
      "cell_type": "markdown",
      "metadata": {
        "id": "NzAVgOQJKwpy",
        "colab_type": "text"
      },
      "source": [
        "### Step 2: Primary Capsule Layer\n"
      ]
    },
    {
      "cell_type": "code",
      "metadata": {
        "id": "Nnv5Zy8MLe0-",
        "colab_type": "code",
        "colab": {}
      },
      "source": [
        "# convolution layer with stride 2 and 256 filters of size 9*9\n",
        "conv2 = Conv2D(256, (9,9), strides = 2, padding = 'valid')(conv1)\n",
        " \n",
        "# reshape into 1152 capsules of 8 dimensional vectors\n",
        "reshaped = Reshape((6*6*32,8))(conv2)\n",
        " \n",
        "def squash(inputs):\n",
        "    # take norm of input vectors\n",
        "    squared_norm = K.sum(K.square(inputs), axis = -1, keepdims = True)\n",
        " \n",
        "    # use the formula for non-linear function to return squashed output\n",
        "    return ((squared_norm/(1+squared_norm))/(K.sqrt(squared_norm+K.epsilon())))*inputs\n",
        "\n",
        "# squash the reshaped output to make length of vector b/w 0 and 1\n",
        "squashed_output = Lambda(squash)(reshaped)"
      ],
      "execution_count": 0,
      "outputs": []
    },
    {
      "cell_type": "markdown",
      "metadata": {
        "id": "jMdW9d72KxtB",
        "colab_type": "text"
      },
      "source": [
        "### Step 3: Digit Capsule Layer\n",
        "\n"
      ]
    },
    {
      "cell_type": "code",
      "metadata": {
        "id": "gvrNQYOpLj57",
        "colab_type": "code",
        "colab": {}
      },
      "source": [
        "class DigitCapsuleLayer(Layer):\n",
        "    # creating a layer class in keras\n",
        "    def __init__(self, **kwargs):\n",
        "        super(DigitCapsuleLayer, self).__init__(**kwargs)\n",
        "        self.kernel_initializer = initializers.get('glorot_uniform')\n",
        "    \n",
        "    def build(self, input_shape): \n",
        "        # initialize weight matrix for each capsule in lower layer\n",
        "        self.W = self.add_weight(shape = [10, 6*6*32, 16, 8], initializer = self.kernel_initializer, name = 'weights')\n",
        "        self.built = True\n",
        "    \n",
        "    def call(self, inputs):\n",
        "        inputs = K.expand_dims(inputs, 1)\n",
        "        inputs = K.tile(inputs, [1, 10, 1, 1])\n",
        "        # matrix multiplication b/w previous layer output and weight matrix\n",
        "        inputs = K.map_fn(lambda x: K.batch_dot(x, self.W, [2, 3]), elems=inputs)\n",
        "        b = tf.zeros(shape = [K.shape(inputs)[0], 10, 6*6*32])\n",
        "        \n",
        "        # routing algorithm with updating coupling coefficient c, using scalar product b/w input capsule and output capsule\n",
        "        for i in range(3-1):\n",
        "            c = tf.nn.softmax(b, axis=1)\n",
        "            s = K.batch_dot(c, inputs, [2, 2])\n",
        "            v = squash(s)\n",
        "            b = b + K.batch_dot(v, inputs, [2,3])\n",
        "            \n",
        "        return v \n",
        "    def compute_output_shape(self, input_shape):\n",
        "        return tuple([None, 10, 16])\n",
        "    \n",
        "    \n",
        "    \n",
        "def output_layer(inputs):\n",
        "    return K.sqrt(K.sum(K.square(inputs), -1) + K.epsilon())\n",
        " \n",
        "digit_caps = DigitCapsuleLayer()(squashed_output)\n",
        "outputs = Lambda(output_layer)(digit_caps)"
      ],
      "execution_count": 0,
      "outputs": []
    },
    {
      "cell_type": "markdown",
      "metadata": {
        "id": "n9agXMdJK2jd",
        "colab_type": "text"
      },
      "source": [
        "### Step 4:  Decoder Network\n",
        "    "
      ]
    },
    {
      "cell_type": "code",
      "metadata": {
        "id": "87310nWWLpD5",
        "colab_type": "code",
        "colab": {}
      },
      "source": [
        "def mask(outputs):\n",
        " \n",
        "    if type(outputs) != list:  # mask at test time\n",
        "        norm_outputs = K.sqrt(K.sum(K.square(outputs), -1) + K.epsilon())\n",
        "        y  = K.one_hot(indices=K.argmax(norm_outputs, 1), num_classes = 10)\n",
        "        y = Reshape((10,1))(y)\n",
        "        return Flatten()(y*outputs)\n",
        " \n",
        "    else:    # mask at train time\n",
        "        y = Reshape((10,1))(outputs[1])\n",
        "        masked_output = y*outputs[0]\n",
        "        return Flatten()(masked_output)\n",
        "    \n",
        "inputs = Input(shape = (10,))\n",
        "masked = Lambda(mask)([digit_caps, inputs])\n",
        "masked_for_test = Lambda(mask)(digit_caps)\n",
        " \n",
        "decoded_inputs = Input(shape = (16*10,))\n",
        "dense1 = Dense(512, activation = 'relu')(decoded_inputs)\n",
        "dense2 = Dense(1024, activation = 'relu')(dense1)\n",
        "decoded_outputs = Dense(784, activation = 'sigmoid')(dense2)\n",
        "decoded_outputs = Reshape((28,28,1))(decoded_outputs)"
      ],
      "execution_count": 0,
      "outputs": []
    },
    {
      "cell_type": "markdown",
      "metadata": {
        "id": "zHI_qeC5K5P5",
        "colab_type": "text"
      },
      "source": [
        "### Step 5: Training the model"
      ]
    },
    {
      "cell_type": "code",
      "metadata": {
        "id": "nHBRNpSmLsAk",
        "colab_type": "code",
        "colab": {}
      },
      "source": [
        "def loss_fn(y_true, y_pred):\n",
        " \n",
        "    L = y_true * K.square(K.maximum(0., 0.9 - y_pred)) + 0.5 * (1 - y_true) * K.square(K.maximum(0., y_pred - 0.1))\n",
        " \n",
        "    return K.mean(K.sum(L, 1))"
      ],
      "execution_count": 0,
      "outputs": []
    },
    {
      "cell_type": "code",
      "metadata": {
        "id": "f6mi-CEWLvHa",
        "colab_type": "code",
        "colab": {
          "base_uri": "https://localhost:8080/",
          "height": 173
        },
        "outputId": "ab42c1d8-8aa4-44f5-def7-2f075d0c3ea8"
      },
      "source": [
        "decoder = Model(decoded_inputs, decoded_outputs)\n",
        "model = Model([input_shape,inputs],[outputs,decoder(masked)])\n",
        "test_model = Model(input_shape,[outputs,decoder(masked_for_test)])\n",
        " \n",
        "m = 128\n",
        "epochs = 3\n",
        "model.compile(optimizer=keras.optimizers.Adam(lr=0.001),loss=[loss_fn,'mse'],loss_weights = [1. ,0.0005],metrics=['accuracy'])\n",
        "model.fit([x_train, y_train],[y_train,x_train],batch_size = m, epochs = epochs, validation_data = ([x_test, y_test],[y_test,x_test]))"
      ],
      "execution_count": 15,
      "outputs": [
        {
          "output_type": "stream",
          "text": [
            "Train on 60000 samples, validate on 10000 samples\n",
            "Epoch 1/3\n",
            "60000/60000 [==============================] - 3744s 62ms/step - loss: 0.2484 - lambda_2_loss: 0.2484 - model_1_loss: 0.0882 - lambda_2_acc: 0.7350 - model_1_acc: 0.8000 - val_loss: 0.0271 - val_lambda_2_loss: 0.0270 - val_model_1_loss: 0.0552 - val_lambda_2_acc: 0.9801 - val_model_1_acc: 0.7964\n",
            "Epoch 2/3\n",
            "60000/60000 [==============================] - 3553s 59ms/step - loss: 0.0212 - lambda_2_loss: 0.0212 - model_1_loss: 0.0538 - lambda_2_acc: 0.9849 - model_1_acc: 0.7948 - val_loss: 0.0147 - val_lambda_2_loss: 0.0147 - val_model_1_loss: 0.0528 - val_lambda_2_acc: 0.9894 - val_model_1_acc: 0.7932\n",
            "Epoch 3/3\n",
            "60000/60000 [==============================] - 3592s 60ms/step - loss: 0.0142 - lambda_2_loss: 0.0142 - model_1_loss: 0.0531 - lambda_2_acc: 0.9900 - model_1_acc: 0.7942 - val_loss: 0.0127 - val_lambda_2_loss: 0.0126 - val_model_1_loss: 0.0526 - val_lambda_2_acc: 0.9916 - val_model_1_acc: 0.7936\n"
          ],
          "name": "stdout"
        },
        {
          "output_type": "execute_result",
          "data": {
            "text/plain": [
              "<keras.callbacks.History at 0x7fc5aa181128>"
            ]
          },
          "metadata": {
            "tags": []
          },
          "execution_count": 15
        }
      ]
    },
    {
      "cell_type": "code",
      "metadata": {
        "id": "cP0n0OnOL4DP",
        "colab_type": "code",
        "colab": {}
      },
      "source": [
        "label_predicted, image_predicted = model.predict([x_test, y_test])"
      ],
      "execution_count": 0,
      "outputs": []
    },
    {
      "cell_type": "markdown",
      "metadata": {
        "id": "KjH18j2XK_L8",
        "colab_type": "text"
      },
      "source": [
        "### Step 6: Evaluation of capsule network model "
      ]
    },
    {
      "cell_type": "code",
      "metadata": {
        "id": "CygGhHJlL4vu",
        "colab_type": "code",
        "colab": {
          "base_uri": "https://localhost:8080/",
          "height": 269
        },
        "outputId": "11b9ba9f-eea2-4512-9423-48bab90d3998"
      },
      "source": [
        "n_samples = 5\n",
        "\n",
        "plt.figure(figsize=(n_samples * 2, 3))\n",
        "for index in range(n_samples):\n",
        "    plt.subplot(1, n_samples, index + 1)\n",
        "    sample_image = x_test[index].reshape(28, 28)\n",
        "    plt.imshow(sample_image, cmap=\"binary\")\n",
        "    plt.title(\"Label:\" + str(y_orig_test[index]))\n",
        "    plt.axis(\"off\")\n",
        "\n",
        "plt.show()\n",
        "\n",
        "plt.figure(figsize=(n_samples * 2, 3))\n",
        "for index in range(n_samples):\n",
        "    plt.subplot(1, n_samples, index + 1)\n",
        "    sample_image = image_predicted[index].reshape(28, 28)\n",
        "    plt.imshow(sample_image, cmap=\"binary\")\n",
        "    plt.title(\"Predicted:\" + str(np.argmax(label_predicted[index])))\n",
        "    plt.axis(\"off\")\n",
        "\n",
        "plt.show()"
      ],
      "execution_count": 17,
      "outputs": [
        {
          "output_type": "display_data",
          "data": {
            "image/png": "[encoded data removed]",
            "text/plain": [
              "<Figure size 720x216 with 5 Axes>"
            ]
          },
          "metadata": {
            "tags": [],
            "needs_background": "light"
          }
        },
        {
          "output_type": "display_data",
          "data": {
            "image/png": "[encoded data removed]",
            "text/plain": [
              "<Figure size 720x216 with 5 Axes>"
            ]
          },
          "metadata": {
            "tags": [],
            "needs_background": "light"
          }
        }
      ]
    },
    {
      "cell_type": "code",
      "metadata": {
        "id": "B0EfhGEKL6eH",
        "colab_type": "code",
        "colab": {}
      },
      "source": [
        "#Saving the model\n",
        "model.save('mnist_capsnet.h5')"
      ],
      "execution_count": 0,
      "outputs": []
    },
    {
      "cell_type": "code",
      "metadata": {
        "id": "rXyya55rUd89",
        "colab_type": "code",
        "colab": {}
      },
      "source": [
        ""
      ],
      "execution_count": 0,
      "outputs": []
    }
  ]
}